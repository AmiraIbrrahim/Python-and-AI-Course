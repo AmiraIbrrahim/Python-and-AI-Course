{
  "nbformat": 4,
  "nbformat_minor": 0,
  "metadata": {
    "colab": {
      "provenance": []
    },
    "kernelspec": {
      "name": "python3",
      "display_name": "Python 3"
    },
    "language_info": {
      "name": "python"
    }
  },
  "cells": [
    {
      "cell_type": "markdown",
      "source": [
        "**Task 1**"
      ],
      "metadata": {
        "id": "cyVhACHfoVR2"
      }
    },
    {
      "cell_type": "code",
      "execution_count": 2,
      "metadata": {
        "id": "UgQNWhdpoR7F",
        "colab": {
          "base_uri": "https://localhost:8080/"
        },
        "outputId": "88254171-25e6-4b90-e77b-554a9e4b7bc6"
      },
      "outputs": [
        {
          "output_type": "stream",
          "name": "stdout",
          "text": [
            "dict_keys(['Ali', 'Sara', 'Salma'])\n",
            "Enter contact name:Ali\n",
            "01234567890\n"
          ]
        }
      ],
      "source": [
        "#Empty dictionary\n",
        "contacts = {}\n",
        "\n",
        "#Add 3 contacts\n",
        "contacts[\"Ali\"] = \"01234567890\"\n",
        "contacts[\"Sara\"] = \"09876543210\"\n",
        "contacts[\"Salma\"] = \"04567891234\"\n",
        "\n",
        "#Print all names\n",
        "print(contacts.keys())\n",
        "\n",
        "#Allow the user to search using name and print associated contact\n",
        "name = input(\"Enter contact name:\")\n",
        "print(contacts[name])"
      ]
    },
    {
      "cell_type": "markdown",
      "source": [
        "**Task 2**"
      ],
      "metadata": {
        "id": "WmZwxNQSUdvX"
      }
    },
    {
      "cell_type": "code",
      "source": [
        "#create list of dictionaries\n",
        "students = [{\"Name\" : \"Ali\", \"Grades\" : [50, 60, 80]}, {\"Name\" : \"Sara\", \"Grades\" : [65, 75, 95]}, {\"Name\" : \"Salma\", \"Grades\" : [90, 95, 80]}]\n",
        "\n",
        "for student in students:\n",
        "  average_grade = sum(student.get(\"Grades\")) / 3\n",
        "  print(\"The average grade of\", student.get(\"Name\"), \"is\", average_grade)\n"
      ],
      "metadata": {
        "colab": {
          "base_uri": "https://localhost:8080/"
        },
        "id": "jpFRoiyQUf7u",
        "outputId": "287f8447-a732-4db0-fc2e-1d7b02503df3"
      },
      "execution_count": 9,
      "outputs": [
        {
          "output_type": "stream",
          "name": "stdout",
          "text": [
            "The average grade of Ali is 63.333333333333336\n",
            "The average grade of Sara is 78.33333333333333\n",
            "The average grade of Salma is 88.33333333333333\n"
          ]
        }
      ]
    }
  ]
}