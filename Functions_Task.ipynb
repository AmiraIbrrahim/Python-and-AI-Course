{
  "nbformat": 4,
  "nbformat_minor": 0,
  "metadata": {
    "colab": {
      "provenance": []
    },
    "kernelspec": {
      "name": "python3",
      "display_name": "Python 3"
    },
    "language_info": {
      "name": "python"
    }
  },
  "cells": [
    {
      "cell_type": "markdown",
      "source": [
        "**Prime Number Checker**"
      ],
      "metadata": {
        "id": "sdVg28ZsVHC6"
      }
    },
    {
      "cell_type": "code",
      "source": [
        "def is_prime(n):\n",
        "  if n <= 1:\n",
        "    return False\n",
        "  else:\n",
        "    for i in range(2, n):\n",
        "      if n % i == 0:\n",
        "        return False\n",
        "      else:\n",
        "        return True\n",
        "\n",
        "print(is_prime(10))\n",
        "print(is_prime(13))"
      ],
      "metadata": {
        "colab": {
          "base_uri": "https://localhost:8080/"
        },
        "id": "b0PehV9JWkJp",
        "outputId": "1576279a-b6f1-426f-ccb0-58a8a67ec7dd"
      },
      "execution_count": 3,
      "outputs": [
        {
          "output_type": "stream",
          "name": "stdout",
          "text": [
            "False\n",
            "True\n"
          ]
        }
      ]
    },
    {
      "cell_type": "markdown",
      "source": [
        "**Custom Calculator**"
      ],
      "metadata": {
        "id": "IOBI2aMsXFzA"
      }
    },
    {
      "cell_type": "code",
      "source": [
        "def calculator(a, b, operation):\n",
        "  if operation == \"add\":\n",
        "    return a + b\n",
        "  if operation == \"subtract\":\n",
        "    return a - b\n",
        "  if operation == \"multiply\":\n",
        "    return a * b\n",
        "  if operation == \"divide\":\n",
        "    return a / b\n",
        "\n",
        "print(calculator(6, 3, \"add\"))\n",
        "print(calculator(6, 3, \"subtract\"))\n",
        "print(calculator(6, 3, \"multiply\"))\n",
        "print(calculator(6, 3, \"divide\"))"
      ],
      "metadata": {
        "colab": {
          "base_uri": "https://localhost:8080/"
        },
        "id": "ueqg20a6XKba",
        "outputId": "32aba4fb-a7aa-413c-f509-4a7b350dc709"
      },
      "execution_count": 5,
      "outputs": [
        {
          "output_type": "stream",
          "name": "stdout",
          "text": [
            "9\n",
            "3\n",
            "18\n",
            "2.0\n"
          ]
        }
      ]
    }
  ]
}