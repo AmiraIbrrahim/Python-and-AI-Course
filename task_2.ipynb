{
  "nbformat": 4,
  "nbformat_minor": 0,
  "metadata": {
    "colab": {
      "provenance": []
    },
    "kernelspec": {
      "name": "python3",
      "display_name": "Python 3"
    },
    "language_info": {
      "name": "python"
    }
  },
  "cells": [
    {
      "cell_type": "markdown",
      "source": [
        "**Task 1**"
      ],
      "metadata": {
        "id": "iD2qT5hKhtaG"
      }
    },
    {
      "cell_type": "code",
      "execution_count": 4,
      "metadata": {
        "colab": {
          "base_uri": "https://localhost:8080/"
        },
        "id": "hMA1NBK7hl69",
        "outputId": "eed2bc91-9448-48be-a748-2f30ee3cf7cc"
      },
      "outputs": [
        {
          "output_type": "stream",
          "name": "stdout",
          "text": [
            "Enter the temperature in Celcius7\n",
            "It's a cold day. Stay warm!\n"
          ]
        }
      ],
      "source": [
        "temp = int(input(\"Enter the temperature in Celcius\"))\n",
        "if temp >= 30:\n",
        "  print(\"It's a hot day. Stay hydrated!\")\n",
        "if temp >= 20 and temp <=29:\n",
        "  print(\"It's a warm day. Enjoy the weather!\")\n",
        "if temp >= 10 and temp <=19:\n",
        "  print(\"It's a cool day. Wear a jacket!\")\n",
        "if temp < 10:\n",
        "  print(\"It's a cold day. Stay warm!\")"
      ]
    },
    {
      "cell_type": "markdown",
      "source": [
        "**Task 2**"
      ],
      "metadata": {
        "id": "1zPxw4dPjDBJ"
      }
    },
    {
      "cell_type": "code",
      "source": [
        "num = {1,2,3,4,5,6,7,8,9,10,11,12,13,14,15,16,17,18,19,20}\n",
        "\n",
        "for n in num:\n",
        "  if n % 3 == 0:\n",
        "    print(n)"
      ],
      "metadata": {
        "colab": {
          "base_uri": "https://localhost:8080/"
        },
        "id": "bVV5cCtsjIUu",
        "outputId": "e243daf5-b16e-42c2-de40-38ded043cc51"
      },
      "execution_count": 7,
      "outputs": [
        {
          "output_type": "stream",
          "name": "stdout",
          "text": [
            "3\n",
            "6\n",
            "9\n",
            "12\n",
            "15\n",
            "18\n"
          ]
        }
      ]
    }
  ]
}