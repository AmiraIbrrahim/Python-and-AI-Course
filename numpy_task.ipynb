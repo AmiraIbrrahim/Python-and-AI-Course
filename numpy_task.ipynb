{
  "nbformat": 4,
  "nbformat_minor": 0,
  "metadata": {
    "colab": {
      "provenance": []
    },
    "kernelspec": {
      "name": "python3",
      "display_name": "Python 3"
    },
    "language_info": {
      "name": "python"
    }
  },
  "cells": [
    {
      "cell_type": "code",
      "execution_count": 4,
      "metadata": {
        "colab": {
          "base_uri": "https://localhost:8080/"
        },
        "id": "Bk0XWfkFDc9Q",
        "outputId": "77ef3e05-2998-4d7e-9e24-c20002dfbb0c"
      },
      "outputs": [
        {
          "output_type": "stream",
          "name": "stdout",
          "text": [
            "A plus B [15 24 33 42 51]\n",
            "A minus B [ 5 16 27 38 49]\n",
            "A multiply B [50 80 90 80 50]\n",
            "A divide B [ 2.  5. 10. 20. 50.]\n",
            "The mean of A is 30.0\n",
            "The max of A is 50\n",
            "The min of A is 10\n",
            "The mean of B is 3.0\n",
            "The max of B is 5\n",
            "The min of B is 1\n",
            "The dot product of A and B 350\n",
            "A reshaped [[10]\n",
            " [20]\n",
            " [30]\n",
            " [40]\n",
            " [50]]\n"
          ]
        }
      ],
      "source": [
        "#import numpy\n",
        "import numpy as np\n",
        "\n",
        "#create arrays\n",
        "A = np.array([10, 20, 30, 40, 50])\n",
        "B = np.array([5, 4, 3, 2, 1,])\n",
        "\n",
        "#perform operations\n",
        "print (\"A plus B\", A + B)\n",
        "print (\"A minus B\", A - B)\n",
        "print (\"A multiply B\", A * B)\n",
        "print (\"A divide B\", A / B)\n",
        "\n",
        "#numpy functions\n",
        "print(\"The mean of A is\", A.mean())\n",
        "print(\"The max of A is\", A.max())\n",
        "print(\"The min of A is\", A.min())\n",
        "print(\"The mean of B is\", B.mean())\n",
        "print(\"The max of B is\", B.max())\n",
        "print(\"The min of B is\", B.min())\n",
        "\n",
        "dot_product = np.dot(A, B)\n",
        "print(\"The dot product of A and B\", dot_product)\n",
        "\n",
        "A_reshaped = A.reshape(5, 1)\n",
        "print(\"A reshaped\", A_reshaped)"
      ]
    }
  ]
}