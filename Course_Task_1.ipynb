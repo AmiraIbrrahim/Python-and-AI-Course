{
  "nbformat": 4,
  "nbformat_minor": 0,
  "metadata": {
    "colab": {
      "provenance": []
    },
    "kernelspec": {
      "name": "python3",
      "display_name": "Python 3"
    },
    "language_info": {
      "name": "python"
    }
  },
  "cells": [
    {
      "cell_type": "code",
      "execution_count": 8,
      "metadata": {
        "colab": {
          "base_uri": "https://localhost:8080/"
        },
        "id": "QFkwU_9c8-Iy",
        "outputId": "8b9e4f7d-4859-456c-fa08-b6cb6260a21f"
      },
      "outputs": [
        {
          "output_type": "stream",
          "name": "stdout",
          "text": [
            "The price of item A is: 20 \n",
            "The price of item B is: 50 \n",
            "The price of item C is: 70\n",
            "The budget is 150\n",
            "The total cost is: 140\n",
            "The total cost is less than the budget\n",
            "The difference is: 10\n"
          ]
        }
      ],
      "source": [
        "#Define variables for the prices of 3 items\n",
        "item_A_price = 20\n",
        "item_B_price = 50\n",
        "item_C_price = 70\n",
        "print(\"The price of item A is:\", item_A_price, \"\\nThe price of item B is:\", item_B_price, \"\\nThe price of item C is:\", item_C_price)\n",
        "\n",
        "#Define a variable for the total budget\n",
        "budget = 150\n",
        "print(\"The budget is\",budget)\n",
        "\n",
        "#Calculate the total cost of items\n",
        "total_cost = item_A_price + item_B_price + item_C_price\n",
        "print(\"The total cost is:\", total_cost)\n",
        "\n",
        "#Compare the total cost with the budget\n",
        "if total_cost > budget:\n",
        "  print (\"The total cost is greater than the budget\")\n",
        "elif total_cost < budget:\n",
        "  print (\"The total cost is less than the budget\")\n",
        "else:\n",
        "  print (\"The total cost is equal to the budget\")\n",
        "\n",
        "#Calculate the difference\n",
        "difference = budget - total_cost\n",
        "print(\"The difference is:\", difference)"
      ]
    }
  ]
}