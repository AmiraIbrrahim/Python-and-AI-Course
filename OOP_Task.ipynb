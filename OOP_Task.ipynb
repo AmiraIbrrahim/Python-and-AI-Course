{
  "nbformat": 4,
  "nbformat_minor": 0,
  "metadata": {
    "colab": {
      "provenance": []
    },
    "kernelspec": {
      "name": "python3",
      "display_name": "Python 3"
    },
    "language_info": {
      "name": "python"
    }
  },
  "cells": [
    {
      "cell_type": "markdown",
      "source": [
        "**Library Management System**"
      ],
      "metadata": {
        "id": "IhyB04Zd5amY"
      }
    },
    {
      "cell_type": "markdown",
      "source": [
        "**Classes and Objects**"
      ],
      "metadata": {
        "id": "fA3uoTgARTlr"
      }
    },
    {
      "cell_type": "code",
      "source": [
        "class Book:\n",
        "  def __init__(self, title, author, isbn, available = True):\n",
        "    self.title = title\n",
        "    self.author = author\n",
        "    self.__isbn = isbn\n",
        "    self.available = available\n",
        "\n",
        "  def display_info(self):\n",
        "    print(f\"Book Title: {self.title}\")\n",
        "    print(f\"Book Author: {self.author}\")\n",
        "    print(f\"Book ISBN: {self.isbn}\")\n",
        "    print(f\"Book Availability: {self.available}\")\n",
        "\n",
        "  def get_isbn(self):\n",
        "    return self.__isbn\n",
        "\n",
        "  def set_isbn(self, new_isbn):\n",
        "    self.__isbn = new_isbn\n",
        "\n",
        "class Member:\n",
        "  def __init__(self, name, membership_id, borrowed_books):\n",
        "    self.name = name\n",
        "    self.__membership_id = membership_id\n",
        "    self.borrowed_books = borrowed_books\n",
        "\n",
        "  def borrow_book(self, book):\n",
        "    if book.available:\n",
        "      self.borrowed_books.append(book)\n",
        "      book.available = False\n",
        "      print(f\"{self.name} has borrowed {book.title}\")\n",
        "    else:\n",
        "      print(\"The book is not available fot borrowing\")\n",
        "\n",
        "  def return_book(self, book):\n",
        "    if book in self.borrowed_books:\n",
        "      self.borrowed_books.remove(book)\n",
        "      book.available = True\n",
        "      print(f\"{self.name} has returned {book.title}\")\n",
        "    else:\n",
        "      print(f\"{book.title} has not been borrowed by {self.name}\")\n",
        "\n",
        "  def get_membership_id(self):\n",
        "    return self.__membership_id\n",
        "\n",
        "  def set_membership_id(self, new_membership_id):\n",
        "    self.__membership_id = new_membership_id\n",
        "\n",
        "class StaffMember(Member):\n",
        "  def __init__(self, name, membership_id, borrowed_books, staff_id):\n",
        "    super().__init__(name, membership_id, borrowed_books)\n",
        "    self.staff_id = staff_id\n",
        "\n",
        "  def add_book(self, new_book):\n",
        "    new_book.available = True\n",
        "    print(f\"{self.name} has added {new_book.title} to the library\")\n",
        "\n",
        ""
      ],
      "metadata": {
        "id": "wjA_HpG3NB9a"
      },
      "execution_count": 4,
      "outputs": []
    }
  ]
}